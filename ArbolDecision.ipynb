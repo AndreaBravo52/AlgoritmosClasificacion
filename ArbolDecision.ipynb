{
  "nbformat": 4,
  "nbformat_minor": 0,
  "metadata": {
    "colab": {
      "provenance": [],
      "include_colab_link": true
    },
    "kernelspec": {
      "name": "python3",
      "display_name": "Python 3"
    },
    "language_info": {
      "name": "python"
    }
  },
  "cells": [
    {
      "cell_type": "markdown",
      "metadata": {
        "id": "view-in-github",
        "colab_type": "text"
      },
      "source": [
        "<a href=\"https://colab.research.google.com/github/AndreaBravo52/AlgoritmosClasificacion/blob/main/ArbolDecision.ipynb\" target=\"_parent\"><img src=\"https://colab.research.google.com/assets/colab-badge.svg\" alt=\"Open In Colab\"/></a>"
      ]
    },
    {
      "cell_type": "markdown",
      "source": [
        "Andrea Bravo\n",
        "\n",
        "A01028579\n",
        "\n",
        "5 de Abril, 2022\n",
        "\n",
        "# Árbol en Python"
      ],
      "metadata": {
        "id": "WNxSwZaLudCy"
      }
    },
    {
      "cell_type": "code",
      "execution_count": null,
      "metadata": {
        "id": "Qgb_KFCOt4fN",
        "colab": {
          "base_uri": "https://localhost:8080/"
        },
        "outputId": "b989cbdd-0361-4684-91a3-d90d12de691c"
      },
      "outputs": [
        {
          "output_type": "stream",
          "name": "stdout",
          "text": [
            "Mounted at /content/drive/\n"
          ]
        }
      ],
      "source": [
        "from google.colab import drive\n",
        "drive.mount('/content/drive/')"
      ]
    },
    {
      "cell_type": "code",
      "source": [
        "import pandas as pd\n",
        "import matplotlib as plt\n",
        "from sklearn import preprocessing\n",
        "from sklearn import tree\n",
        "from IPython.display import Image\n",
        "import pydotplus\n",
        "import matplotlib.pyplot as plt\n",
        "import matplotlib.image as mpimg"
      ],
      "metadata": {
        "id": "C8lVNX3xuppx"
      },
      "execution_count": null,
      "outputs": []
    },
    {
      "cell_type": "markdown",
      "source": [
        "## Solución para datos de Tráfico"
      ],
      "metadata": {
        "id": "Wty6DYNh-zLY"
      }
    },
    {
      "cell_type": "code",
      "source": [
        "def getWeather():\n",
        "    return ['Clear', 'Clear', 'Clear', 'Clear', 'Clear', 'Clear',\n",
        "            'Rainy', 'Rainy', 'Rainy', 'Rainy', 'Rainy', 'Rainy',\n",
        "            'Snowy', 'Snowy', 'Snowy', 'Snowy', 'Snowy', 'Snowy']\n",
        "\n",
        "def getTimeOfWeek():\n",
        "    return ['Workday', 'Workday', 'Workday',\n",
        "            'Weekend', 'Weekend', 'Weekend',\n",
        "            'Workday', 'Workday', 'Workday',\n",
        "            'Weekend', 'Weekend', 'Weekend',\n",
        "            'Workday', 'Workday', 'Workday',\n",
        "            'Weekend', 'Weekend', 'Weekend']\n",
        "\n",
        "def getTimeOfDay():\n",
        "    return ['Morning', 'Lunch', 'Evening',\n",
        "            'Morning', 'Lunch', 'Evening',\n",
        "            'Morning', 'Lunch', 'Evening',\n",
        "            'Morning', 'Lunch', 'Evening',\n",
        "            'Morning', 'Lunch', 'Evening',\n",
        "            'Morning', 'Lunch', 'Evening',\n",
        "            ]\n",
        "\n",
        "def getTrafficJam():\n",
        "    return ['Yes', 'No', 'Yes',\n",
        "            'No', 'No', 'No',\n",
        "            'Yes', 'Yes', 'Yes',\n",
        "            'No', 'No', 'No',\n",
        "            'Yes', 'Yes', 'Yes',\n",
        "            'Yes', 'No', 'Yes'\n",
        "            ]"
      ],
      "metadata": {
        "id": "QylJzxXw_AsP"
      },
      "execution_count": null,
      "outputs": []
    },
    {
      "cell_type": "code",
      "source": [
        "weather = ['Clear', 'Clear', 'Clear', 'Clear', 'Clear', 'Clear',\n",
        "            'Rainy', 'Rainy', 'Rainy', 'Rainy', 'Rainy', 'Rainy',\n",
        "            'Snowy', 'Snowy', 'Snowy', 'Snowy', 'Snowy', 'Snowy']\n",
        "labelEncoder = preprocessing.LabelEncoder();\n",
        "\n",
        "trafficJam = ['Yes', 'No', 'Yes',\n",
        "            'No', 'No', 'No',\n",
        "            'Yes', 'Yes', 'Yes',\n",
        "            'No', 'No', 'No',\n",
        "            'Yes', 'Yes', 'Yes',\n",
        "            'Yes', 'No', 'Yes'\n",
        "            ]\n",
        "\n",
        "    # Get the data\n",
        "weather = getWeather()\n",
        "timeOfWeek = getTimeOfWeek()\n",
        "timeOfDay = getTimeOfDay()\n",
        "trafficJam = getTrafficJam()\n",
        "\n",
        "labelEncoder = preprocessing.LabelEncoder()\n",
        "\n",
        "    # Encode the features and the labels\n",
        "encodedWeather = labelEncoder.fit_transform(weather)\n",
        "encodedTimeOfWeek = labelEncoder.fit_transform(timeOfWeek)\n",
        "encodedTimeOfDay = labelEncoder.fit_transform(timeOfDay)\n",
        "encodedTrafficJam = labelEncoder.fit_transform(trafficJam)\n",
        "\n",
        "    # Build the features\n",
        "features = []\n",
        "for i in range(len(encodedWeather)):\n",
        "  features.append([encodedWeather[i], encodedTimeOfWeek[i], encodedTimeOfDay[i]])\n",
        "\n",
        "classifier = tree.DecisionTreeClassifier()\n",
        "classifier = classifier.fit(features, encodedTrafficJam)"
      ],
      "metadata": {
        "id": "zd_OvJh4_w_p"
      },
      "execution_count": null,
      "outputs": []
    },
    {
      "cell_type": "markdown",
      "source": [
        "Soluciones mostradas en el ejemplo"
      ],
      "metadata": {
        "id": "hjC0iRggGwLF"
      }
    },
    {
      "cell_type": "code",
      "source": [
        "print(classifier.predict([[2, 1, 2]]))\n",
        "print(classifier.predict([[0, 0, 1]]))"
      ],
      "metadata": {
        "colab": {
          "base_uri": "https://localhost:8080/"
        },
        "id": "DDqxy4nxAqPu",
        "outputId": "c7192e34-0b0e-4378-a6ce-d0fb172cfeb5"
      },
      "execution_count": null,
      "outputs": [
        {
          "output_type": "stream",
          "name": "stdout",
          "text": [
            "[1]\n",
            "[0]\n"
          ]
        }
      ]
    },
    {
      "cell_type": "markdown",
      "source": [
        "1 dice que si va a haber tráfico\n",
        "\n",
        "0 indica que no habrá ttráfico"
      ],
      "metadata": {
        "id": "uZYpuYZ3HIId"
      }
    },
    {
      "cell_type": "code",
      "source": [
        "print(classifier.predict([[0, 0, 0]]))\n",
        "print(classifier.predict([[2, 1, 1]]))\n",
        "print(classifier.predict([[1, 2, 0]]))"
      ],
      "metadata": {
        "colab": {
          "base_uri": "https://localhost:8080/"
        },
        "id": "sbSk3tMZG2Ln",
        "outputId": "0dc97fa6-1f26-4308-a49b-d82c35355ceb"
      },
      "execution_count": null,
      "outputs": [
        {
          "output_type": "stream",
          "name": "stdout",
          "text": [
            "[0]\n",
            "[1]\n",
            "[1]\n"
          ]
        }
      ]
    },
    {
      "cell_type": "markdown",
      "source": [
        "No va a haber tráfico\n",
        "\n",
        "Si habrá tráfico\n",
        "\n",
        "Si habrá tráfico"
      ],
      "metadata": {
        "id": "PCLmpR_PHR22"
      }
    },
    {
      "cell_type": "code",
      "source": [
        "feature_names=['Weather','Time of Week','Time of Day']\n",
        "target_names = ['Yes', 'No']\n",
        "    # Build the daya\n",
        "dot_data = tree.export_graphviz(classifier, out_file=None,\n",
        "                                    feature_names=feature_names,\n",
        "                                    class_names=target_names)\n",
        "    # Build the graph\n",
        "graph = pydotplus.graph_from_dot_data(dot_data)\n",
        "\n",
        "    # Show the image\n",
        "Image(graph.create_png())\n",
        "graph.write_png(\"drive/MyDrive/treeTJ.png\")"
      ],
      "metadata": {
        "colab": {
          "base_uri": "https://localhost:8080/"
        },
        "id": "KxRXUmitAyPM",
        "outputId": "bd92394a-7fa7-4a97-d008-c1f6d87d07ed"
      },
      "execution_count": null,
      "outputs": [
        {
          "output_type": "execute_result",
          "data": {
            "text/plain": [
              "True"
            ]
          },
          "metadata": {},
          "execution_count": 60
        }
      ]
    },
    {
      "cell_type": "code",
      "source": [
        "img = mpimg.imread(\"drive/MyDrive/treeTJ.png\")\n",
        "imgplot = plt.imshow(img)\n",
        "plt.show()"
      ],
      "metadata": {
        "colab": {
          "base_uri": "https://localhost:8080/",
          "height": 268
        },
        "id": "7hY4FJ0BH4Ee",
        "outputId": "60857218-96c4-423b-8324-315630c37b25"
      },
      "execution_count": null,
      "outputs": [
        {
          "output_type": "display_data",
          "data": {
            "text/plain": [
              "<Figure size 432x288 with 1 Axes>"
            ],
            "image/png": "[encoded data removed]"
          },
          "metadata": {
            "needs_background": "light"
          }
        }
      ]
    },
    {
      "cell_type": "markdown",
      "source": [
        "## Solución para base de datos de Iris"
      ],
      "metadata": {
        "id": "VQ7YsoKh-vWz"
      }
    },
    {
      "cell_type": "code",
      "source": [
        "iris=pd.read_csv('drive/MyDrive/iris.csv')"
      ],
      "metadata": {
        "id": "HiHMrfv0u-8s"
      },
      "execution_count": null,
      "outputs": []
    },
    {
      "cell_type": "code",
      "source": [
        "iris.head()"
      ],
      "metadata": {
        "colab": {
          "base_uri": "https://localhost:8080/",
          "height": 206
        },
        "id": "Yy5Jiwu_y-oL",
        "outputId": "bd445c8c-0b07-4652-ab62-5e2d853075d1"
      },
      "execution_count": null,
      "outputs": [
        {
          "output_type": "execute_result",
          "data": {
            "text/plain": [
              "   Sepal.Length  Sepal.Width  Petal.Length  Petal.Width Species\n",
              "0           5.1          3.5           1.4          0.2  setosa\n",
              "1           4.9          3.0           1.4          0.2  setosa\n",
              "2           4.7          3.2           1.3          0.2  setosa\n",
              "3           4.6          3.1           1.5          0.2  setosa\n",
              "4           5.0          3.6           1.4          0.2  setosa"
            ],
            "text/html": [
              "\n",
              "  <div id=\"df-3a229bd9-c99c-4e31-afc5-7e93214cfa9a\">\n",
              "    <div class=\"colab-df-container\">\n",
              "      <div>\n",
              "<style scoped>\n",
              "    .dataframe tbody tr th:only-of-type {\n",
              "        vertical-align: middle;\n",
              "    }\n",
              "\n",
              "    .dataframe tbody tr th {\n",
              "        vertical-align: top;\n",
              "    }\n",
              "\n",
              "    .dataframe thead th {\n",
              "        text-align: right;\n",
              "    }\n",
              "</style>\n",
              "<table border=\"1\" class=\"dataframe\">\n",
              "  <thead>\n",
              "    <tr style=\"text-align: right;\">\n",
              "      <th></th>\n",
              "      <th>Sepal.Length</th>\n",
              "      <th>Sepal.Width</th>\n",
              "      <th>Petal.Length</th>\n",
              "      <th>Petal.Width</th>\n",
              "      <th>Species</th>\n",
              "    </tr>\n",
              "  </thead>\n",
              "  <tbody>\n",
              "    <tr>\n",
              "      <th>0</th>\n",
              "      <td>5.1</td>\n",
              "      <td>3.5</td>\n",
              "      <td>1.4</td>\n",
              "      <td>0.2</td>\n",
              "      <td>setosa</td>\n",
              "    </tr>\n",
              "    <tr>\n",
              "      <th>1</th>\n",
              "      <td>4.9</td>\n",
              "      <td>3.0</td>\n",
              "      <td>1.4</td>\n",
              "      <td>0.2</td>\n",
              "      <td>setosa</td>\n",
              "    </tr>\n",
              "    <tr>\n",
              "      <th>2</th>\n",
              "      <td>4.7</td>\n",
              "      <td>3.2</td>\n",
              "      <td>1.3</td>\n",
              "      <td>0.2</td>\n",
              "      <td>setosa</td>\n",
              "    </tr>\n",
              "    <tr>\n",
              "      <th>3</th>\n",
              "      <td>4.6</td>\n",
              "      <td>3.1</td>\n",
              "      <td>1.5</td>\n",
              "      <td>0.2</td>\n",
              "      <td>setosa</td>\n",
              "    </tr>\n",
              "    <tr>\n",
              "      <th>4</th>\n",
              "      <td>5.0</td>\n",
              "      <td>3.6</td>\n",
              "      <td>1.4</td>\n",
              "      <td>0.2</td>\n",
              "      <td>setosa</td>\n",
              "    </tr>\n",
              "  </tbody>\n",
              "</table>\n",
              "</div>\n",
              "      <button class=\"colab-df-convert\" onclick=\"convertToInteractive('df-3a229bd9-c99c-4e31-afc5-7e93214cfa9a')\"\n",
              "              title=\"Convert this dataframe to an interactive table.\"\n",
              "              style=\"display:none;\">\n",
              "        \n",
              "  <svg xmlns=\"http://www.w3.org/2000/svg\" height=\"24px\"viewBox=\"0 0 24 24\"\n",
              "       width=\"24px\">\n",
              "    <path d=\"M0 0h24v24H0V0z\" fill=\"none\"/>\n",
              "    <path d=\"M18.56 5.44l.94 2.06.94-2.06 2.06-.94-2.06-.94-.94-2.06-.94 2.06-2.06.94zm-11 1L8.5 8.5l.94-2.06 2.06-.94-2.06-.94L8.5 2.5l-.94 2.06-2.06.94zm10 10l.94 2.06.94-2.06 2.06-.94-2.06-.94-.94-2.06-.94 2.06-2.06.94z\"/><path d=\"M17.41 7.96l-1.37-1.37c-.4-.4-.92-.59-1.43-.59-.52 0-1.04.2-1.43.59L10.3 9.45l-7.72 7.72c-.78.78-.78 2.05 0 2.83L4 21.41c.39.39.9.59 1.41.59.51 0 1.02-.2 1.41-.59l7.78-7.78 2.81-2.81c.8-.78.8-2.07 0-2.86zM5.41 20L4 18.59l7.72-7.72 1.47 1.35L5.41 20z\"/>\n",
              "  </svg>\n",
              "      </button>\n",
              "      \n",
              "  <style>\n",
              "    .colab-df-container {\n",
              "      display:flex;\n",
              "      flex-wrap:wrap;\n",
              "      gap: 12px;\n",
              "    }\n",
              "\n",
              "    .colab-df-convert {\n",
              "      background-color: #E8F0FE;\n",
              "      border: none;\n",
              "      border-radius: 50%;\n",
              "      cursor: pointer;\n",
              "      display: none;\n",
              "      fill: #1967D2;\n",
              "      height: 32px;\n",
              "      padding: 0 0 0 0;\n",
              "      width: 32px;\n",
              "    }\n",
              "\n",
              "    .colab-df-convert:hover {\n",
              "      background-color: #E2EBFA;\n",
              "      box-shadow: 0px 1px 2px rgba(60, 64, 67, 0.3), 0px 1px 3px 1px rgba(60, 64, 67, 0.15);\n",
              "      fill: #174EA6;\n",
              "    }\n",
              "\n",
              "    [theme=dark] .colab-df-convert {\n",
              "      background-color: #3B4455;\n",
              "      fill: #D2E3FC;\n",
              "    }\n",
              "\n",
              "    [theme=dark] .colab-df-convert:hover {\n",
              "      background-color: #434B5C;\n",
              "      box-shadow: 0px 1px 3px 1px rgba(0, 0, 0, 0.15);\n",
              "      filter: drop-shadow(0px 1px 2px rgba(0, 0, 0, 0.3));\n",
              "      fill: #FFFFFF;\n",
              "    }\n",
              "  </style>\n",
              "\n",
              "      <script>\n",
              "        const buttonEl =\n",
              "          document.querySelector('#df-3a229bd9-c99c-4e31-afc5-7e93214cfa9a button.colab-df-convert');\n",
              "        buttonEl.style.display =\n",
              "          google.colab.kernel.accessAllowed ? 'block' : 'none';\n",
              "\n",
              "        async function convertToInteractive(key) {\n",
              "          const element = document.querySelector('#df-3a229bd9-c99c-4e31-afc5-7e93214cfa9a');\n",
              "          const dataTable =\n",
              "            await google.colab.kernel.invokeFunction('convertToInteractive',\n",
              "                                                     [key], {});\n",
              "          if (!dataTable) return;\n",
              "\n",
              "          const docLinkHtml = 'Like what you see? Visit the ' +\n",
              "            '<a target=\"_blank\" href=https://colab.research.google.com/notebooks/data_table.ipynb>data table notebook</a>'\n",
              "            + ' to learn more about interactive tables.';\n",
              "          element.innerHTML = '';\n",
              "          dataTable['output_type'] = 'display_data';\n",
              "          await google.colab.output.renderOutput(dataTable, element);\n",
              "          const docLink = document.createElement('div');\n",
              "          docLink.innerHTML = docLinkHtml;\n",
              "          element.appendChild(docLink);\n",
              "        }\n",
              "      </script>\n",
              "    </div>\n",
              "  </div>\n",
              "  "
            ]
          },
          "metadata": {},
          "execution_count": 5
        }
      ]
    },
    {
      "cell_type": "code",
      "source": [
        "specie_en=iris['Species']\n",
        "specie_en"
      ],
      "metadata": {
        "colab": {
          "base_uri": "https://localhost:8080/"
        },
        "id": "uJUvRR_R4cyk",
        "outputId": "0ff765b4-8dd4-4508-f204-9cc3a9a7bddd"
      },
      "execution_count": null,
      "outputs": [
        {
          "output_type": "execute_result",
          "data": {
            "text/plain": [
              "0         setosa\n",
              "1         setosa\n",
              "2         setosa\n",
              "3         setosa\n",
              "4         setosa\n",
              "         ...    \n",
              "145    virginica\n",
              "146    virginica\n",
              "147    virginica\n",
              "148    virginica\n",
              "149    virginica\n",
              "Name: Species, Length: 150, dtype: object"
            ]
          },
          "metadata": {},
          "execution_count": 6
        }
      ]
    },
    {
      "cell_type": "code",
      "source": [
        "    labelEncoder = preprocessing.LabelEncoder()\n",
        "    encodedSpecies = labelEncoder.fit_transform(specie_en)\n",
        "    print (encodedSpecies)"
      ],
      "metadata": {
        "colab": {
          "base_uri": "https://localhost:8080/"
        },
        "id": "1XPKHFXV4PiO",
        "outputId": "d40231f2-386a-4c10-e71a-8430be25713e"
      },
      "execution_count": null,
      "outputs": [
        {
          "output_type": "stream",
          "name": "stdout",
          "text": [
            "[0 0 0 0 0 0 0 0 0 0 0 0 0 0 0 0 0 0 0 0 0 0 0 0 0 0 0 0 0 0 0 0 0 0 0 0 0\n",
            " 0 0 0 0 0 0 0 0 0 0 0 0 0 1 1 1 1 1 1 1 1 1 1 1 1 1 1 1 1 1 1 1 1 1 1 1 1\n",
            " 1 1 1 1 1 1 1 1 1 1 1 1 1 1 1 1 1 1 1 1 1 1 1 1 1 1 2 2 2 2 2 2 2 2 2 2 2\n",
            " 2 2 2 2 2 2 2 2 2 2 2 2 2 2 2 2 2 2 2 2 2 2 2 2 2 2 2 2 2 2 2 2 2 2 2 2 2\n",
            " 2 2]\n"
          ]
        }
      ]
    },
    {
      "cell_type": "code",
      "source": [
        "feature=iris.drop('Species', axis=1)"
      ],
      "metadata": {
        "id": "YCI1Zsss478L"
      },
      "execution_count": null,
      "outputs": []
    },
    {
      "cell_type": "code",
      "source": [
        "classifier = tree.DecisionTreeClassifier()\n",
        "classifier = classifier.fit(feature, encodedSpecies)"
      ],
      "metadata": {
        "id": "-MY2TZFh5GO0"
      },
      "execution_count": null,
      "outputs": []
    },
    {
      "cell_type": "markdown",
      "source": [
        "Resultado de 5 predicciones"
      ],
      "metadata": {
        "id": "n022HCLm-m8_"
      }
    },
    {
      "cell_type": "code",
      "source": [
        "#Ejemplo de clasificación\n",
        "print(classifier.predict([[5.0, 3.6, 1.4, 0.2]]))\n",
        "print(classifier.predict([[6.7, 3.0, 5.2, 2.3]]))\n",
        "print(classifier.predict([[5.9, 3.0, 5.1, 1.8]]))\n",
        "print(classifier.predict([[5.1, 3.5, 1.4, 0.2]]))\n",
        "print(classifier.predict([[5.7,\t2.6, 3.5,\t1.0\t]]))"
      ],
      "metadata": {
        "colab": {
          "base_uri": "https://localhost:8080/"
        },
        "id": "VUCBdmks5W7s",
        "outputId": "74e9e663-e0c1-4127-8838-abb0ff630ae0"
      },
      "execution_count": null,
      "outputs": [
        {
          "output_type": "stream",
          "name": "stdout",
          "text": [
            "[0]\n",
            "[2]\n",
            "[2]\n",
            "[0]\n",
            "[1]\n"
          ]
        },
        {
          "output_type": "stream",
          "name": "stderr",
          "text": [
            "/usr/local/lib/python3.7/dist-packages/sklearn/base.py:451: UserWarning: X does not have valid feature names, but DecisionTreeClassifier was fitted with feature names\n",
            "  \"X does not have valid feature names, but\"\n",
            "/usr/local/lib/python3.7/dist-packages/sklearn/base.py:451: UserWarning: X does not have valid feature names, but DecisionTreeClassifier was fitted with feature names\n",
            "  \"X does not have valid feature names, but\"\n",
            "/usr/local/lib/python3.7/dist-packages/sklearn/base.py:451: UserWarning: X does not have valid feature names, but DecisionTreeClassifier was fitted with feature names\n",
            "  \"X does not have valid feature names, but\"\n",
            "/usr/local/lib/python3.7/dist-packages/sklearn/base.py:451: UserWarning: X does not have valid feature names, but DecisionTreeClassifier was fitted with feature names\n",
            "  \"X does not have valid feature names, but\"\n",
            "/usr/local/lib/python3.7/dist-packages/sklearn/base.py:451: UserWarning: X does not have valid feature names, but DecisionTreeClassifier was fitted with feature names\n",
            "  \"X does not have valid feature names, but\"\n"
          ]
        }
      ]
    },
    {
      "cell_type": "markdown",
      "source": [
        "Las clasificaciones obtenidas nos indican que con esas carácterísticas las flores serían de las especies setosa, virginica, virginica, setosa y versicolor."
      ],
      "metadata": {
        "id": "KObOOS94IJqq"
      }
    },
    {
      "cell_type": "code",
      "source": [
        "feature_names=['Sepal.Length','Sepal.Width','Petal.Length', 'Petal.Width']\n",
        "target_names = iris['Species'].unique()\n",
        "    # Build the daya\n",
        "dot_data = tree.export_graphviz(classifier, out_file=None,\n",
        "                                    feature_names=feature_names,\n",
        "                                    class_names=target_names)\n",
        "    # Build the graph\n",
        "graph = pydotplus.graph_from_dot_data(dot_data)\n",
        "\n",
        "    # Show the image\n",
        "Image(graph.create_png())\n",
        "graph.write_png(\"drive/MyDrive/treeI.png\")"
      ],
      "metadata": {
        "colab": {
          "base_uri": "https://localhost:8080/"
        },
        "id": "_WMW_G4755mw",
        "outputId": "02326e58-e49e-44f0-edc6-68c78be7d6fa"
      },
      "execution_count": null,
      "outputs": [
        {
          "output_type": "execute_result",
          "data": {
            "text/plain": [
              "True"
            ]
          },
          "metadata": {},
          "execution_count": 11
        }
      ]
    },
    {
      "cell_type": "code",
      "source": [
        "\n",
        "img = mpimg.imread(\"drive/MyDrive/treeI.png\")\n",
        "imgplot = plt.imshow(img)\n",
        "plt.show()"
      ],
      "metadata": {
        "colab": {
          "base_uri": "https://localhost:8080/",
          "height": 269
        },
        "id": "u2UxHzlR7U4j",
        "outputId": "629b208b-8f24-412f-ad22-f423f86e66b7"
      },
      "execution_count": null,
      "outputs": [
        {
          "output_type": "display_data",
          "data": {
            "text/plain": [
              "<Figure size 432x288 with 1 Axes>"
            ],
            "image/png": "[encoded data removed]"
          },
          "metadata": {
            "needs_background": "light"
          }
        }
      ]
    },
    {
      "cell_type": "code",
      "source": [
        "from sklearn import metrics\n",
        "from sklearn.model_selection import train_test_split"
      ],
      "metadata": {
        "id": "3G8LEM8C5XRr"
      },
      "execution_count": null,
      "outputs": []
    },
    {
      "cell_type": "code",
      "source": [
        "X_train, X_test, y_train, y_test = train_test_split(feature, encodedSpecies, test_size=0.3, random_state=1)"
      ],
      "metadata": {
        "id": "hCMsE0596Rhg"
      },
      "execution_count": null,
      "outputs": []
    },
    {
      "cell_type": "code",
      "source": [
        "classifier = classifier.fit(X_train, y_train)"
      ],
      "metadata": {
        "id": "yK2bgsyT6j8y"
      },
      "execution_count": null,
      "outputs": []
    },
    {
      "cell_type": "code",
      "source": [
        "y_pred=classifier.predict(X_test)"
      ],
      "metadata": {
        "id": "dRlb5BOg5_97"
      },
      "execution_count": null,
      "outputs": []
    },
    {
      "cell_type": "code",
      "source": [
        "print(\"Accuracy:\",metrics.accuracy_score(y_test, y_pred))"
      ],
      "metadata": {
        "colab": {
          "base_uri": "https://localhost:8080/"
        },
        "id": "bT0lVsiu5zo_",
        "outputId": "f0a5817e-b908-4410-c9db-d678c0963401"
      },
      "execution_count": null,
      "outputs": [
        {
          "output_type": "stream",
          "name": "stdout",
          "text": [
            "Accuracy: 0.9555555555555556\n"
          ]
        }
      ]
    }
  ]
}